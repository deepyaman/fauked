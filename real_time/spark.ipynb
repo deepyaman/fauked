{
 "cells": [
  {
   "cell_type": "code",
   "execution_count": 1,
   "id": "atlantic-composition",
   "metadata": {},
   "outputs": [],
   "source": [
    "import os\n",
    "os.environ['PYSPARK_SUBMIT_ARGS'] = '--packages org.apache.spark:spark-sql-kafka-0-10_2.12:3.0.2 pyspark-shell'"
   ]
  },
  {
   "cell_type": "code",
   "execution_count": 2,
   "id": "modular-certification",
   "metadata": {},
   "outputs": [],
   "source": [
    "from pyspark.sql.session import SparkSession\n",
    "import json"
   ]
  },
  {
   "cell_type": "code",
   "execution_count": 3,
   "id": "coastal-ghost",
   "metadata": {},
   "outputs": [],
   "source": [
    "spark = SparkSession \\\n",
    "        .builder \\\n",
    "        .appName(\"test\").getOrCreate()"
   ]
  },
  {
   "cell_type": "markdown",
   "id": "forbidden-uzbekistan",
   "metadata": {},
   "source": [
    "Read from `bey`"
   ]
  },
  {
   "cell_type": "code",
   "execution_count": 43,
   "id": "informational-canal",
   "metadata": {},
   "outputs": [
    {
     "name": "stdout",
     "output_type": "stream",
     "text": [
      "root\n",
      " |-- columns: array (nullable = true)\n",
      " |    |-- element: string (containsNull = true)\n",
      " |-- data: array (nullable = true)\n",
      " |    |-- element: array (containsNull = true)\n",
      " |    |    |-- element: float (containsNull = true)\n",
      " |-- id: integer (nullable = true)\n",
      "\n"
     ]
    }
   ],
   "source": [
    "df = spark \\\n",
    "    .readStream \\\n",
    "    .format(\"kafka\") \\\n",
    "    .option(\"kafka.bootstrap.servers\", \"localhost:19092\") \\\n",
    "    .option(\"subscribe\", \"lol1\") \\\n",
    "    .option(\"includeHeaders\", \"true\") \\\n",
    "    .option(\"startingOffsets\", \"earliest\") \\\n",
    "    .load()\n",
    "\n",
    "\n",
    "\n",
    "from pyspark.sql.functions import col, from_json\n",
    "from pyspark.sql.types import ArrayType, FloatType, IntegerType, StringType, StructField, StructType\n",
    "\n",
    "string_df = df.selectExpr(\"CAST(value AS STRING)\")\n",
    "    \n",
    "# Print out the new dataframa schema\n",
    "#string_df.printSchema()\n",
    "\n",
    "# Create a schema for the df\n",
    "schema = StructType([\n",
    "    StructField(\"columns\", ArrayType(StringType())),\n",
    "    StructField(\"data\", ArrayType(ArrayType(FloatType()))),\n",
    "    StructField(\"id\", IntegerType())\n",
    "    ])\n",
    "\n",
    "# Select the data present in the column value and apply the schema on it\n",
    "json_df = string_df.withColumn(\"jsonData\", from_json(col(\"value\"), schema)).select(\"jsondata.*\")\n",
    "\n",
    "# Print out the dataframa schema\n",
    "json_df.printSchema()\n",
    "\n",
    "# Write output to the terminal\n",
    "# json_df.writeStream.format(\"console\").outputMode(\"append\").start().awaitTermination()\n",
    "\n",
    "# Write output to kafka topic\n",
    "#json_df.selectExpr(\"id AS key\", \"to_json(struct(*)) AS value\")\\"
   ]
  },
  {
   "cell_type": "markdown",
   "id": "black-vulnerability",
   "metadata": {},
   "source": [
    "Now for `hey`"
   ]
  },
  {
   "cell_type": "code",
   "execution_count": 5,
   "id": "linear-desktop",
   "metadata": {},
   "outputs": [
    {
     "name": "stdout",
     "output_type": "stream",
     "text": [
      "root\n",
      " |-- stuff: string (nullable = true)\n",
      " |-- id: integer (nullable = true)\n",
      "\n"
     ]
    }
   ],
   "source": [
    "other_df = spark \\\n",
    "    .readStream \\\n",
    "    .format(\"kafka\") \\\n",
    "    .option(\"kafka.bootstrap.servers\", \"localhost:19092\") \\\n",
    "    .option(\"subscribe\", \"lmao\") \\\n",
    "    .option(\"includeHeaders\", \"true\") \\\n",
    "    .option(\"startingOffsets\", \"earliest\") \\\n",
    "    .load()\n",
    "\n",
    "\n",
    "from pyspark.sql.functions import col, from_json\n",
    "from pyspark.sql.types import ArrayType, FloatType, IntegerType, StringType, StructField, StructType\n",
    "\n",
    "other_string_df = other_df.selectExpr(\"CAST(value AS STRING)\")\n",
    "    \n",
    "# Print out the new dataframa schema\n",
    "#string_df.printSchema()\n",
    "\n",
    "# Create a schema for the df\n",
    "other_schema = StructType([\n",
    "    StructField(\"stuff\", StringType()),\n",
    "    StructField(\"id\", IntegerType())\n",
    "    ])\n",
    "\n",
    "# Select the data present in the column value and apply the schema on it\n",
    "other_json_df = other_string_df.withColumn(\"jsonData\", from_json(col(\"value\"), other_schema)).select(\"jsondata.*\")\n",
    "\n",
    "# Print out the dataframa schema\n",
    "other_json_df.printSchema()\n",
    "\n",
    "# Write output to the terminal\n",
    "#json_df.writeStream.format(\"console\").outputMode(\"append\").start().awaitTermination()\n",
    "\n",
    "# Write output to kafka topic\n",
    "#json_df.selectExpr(\"id AS key\", \"to_json(struct(*)) AS value\")\\"
   ]
  },
  {
   "cell_type": "code",
   "execution_count": 6,
   "id": "thick-louisville",
   "metadata": {},
   "outputs": [],
   "source": [
    "joined_df = json_df.join(other_json_df, on=\"id\")"
   ]
  },
  {
   "cell_type": "code",
   "execution_count": 7,
   "id": "considerable-kentucky",
   "metadata": {},
   "outputs": [],
   "source": [
    "# joined_df.writeStream.foreach(lambda row: print(int(row.stuff) * 100)).start().awaitTermination()"
   ]
  },
  {
   "cell_type": "code",
   "execution_count": 8,
   "id": "remarkable-conditions",
   "metadata": {},
   "outputs": [],
   "source": [
    "import mlflow\n",
    "import mlflow.pyfunc\n",
    "import os\n",
    "\n",
    "os.environ[\"MLFLOW_S3_ENDPOINT_URL\"] = \"http://localhost:9000\"\n",
    "mlflow.set_tracking_uri(\"http://localhost:5000\")\n",
    "\n",
    "model_name = \"cc_model\"\n",
    "model_version = 1\n",
    "\n",
    "model = mlflow.pyfunc.load_model(\n",
    "    model_uri=f\"models:/{model_name}/{model_version}\"\n",
    ")"
   ]
  },
  {
   "cell_type": "code",
   "execution_count": 89,
   "id": "starting-coffee",
   "metadata": {},
   "outputs": [],
   "source": [
    "predict = mlflow.pyfunc.spark_udf(spark,\n",
    "                                  model_uri=f\"models:/{model_name}/{model_version}\",\n",
    "                                  result_type=ArrayType(IntegerType())\n",
    "                                 )"
   ]
  },
  {
   "cell_type": "code",
   "execution_count": 90,
   "id": "operating-brook",
   "metadata": {},
   "outputs": [],
   "source": [
    "joined_df = joined_df.withColumn(\"predictions\", predict(\"data\"))"
   ]
  },
  {
   "cell_type": "code",
   "execution_count": 91,
   "id": "compatible-technology",
   "metadata": {
    "scrolled": true
   },
   "outputs": [
    {
     "ename": "StreamingQueryException",
     "evalue": "Writing job aborted.\n=== Streaming Query ===\nIdentifier: [id = f69a5ded-c5e6-4b9d-a53e-bfec3c75e33f, runId = 830a7e66-0c83-4eea-af01-30ebd989a986]\nCurrent Committed Offsets: {}\nCurrent Available Offsets: {KafkaV2[Subscribe[lmao]]: {\"lmao\":{\"0\":5}},KafkaV2[Subscribe[lol]]: {\"lol\":{\"0\":10}}}\n\nCurrent State: ACTIVE\nThread State: RUNNABLE\n\nLogical Plan:\nWriteToMicroBatchDataSource ConsoleWriter[numRows=20, truncate=true]\n+- Project [id#31, columns#29, data#30, stuff#64, predict(data#30) AS predictions#683]\n   +- Project [id#31, columns#29, data#30, stuff#64]\n      +- Join Inner, (id#31 = id#65)\n         :- Project [jsondata#26.columns AS columns#29, jsondata#26.data AS data#30, jsondata#26.id AS id#31]\n         :  +- Project [value#24, from_json(StructField(columns,ArrayType(StringType,true),true), StructField(data,ArrayType(ArrayType(FloatType,true),true),true), StructField(id,IntegerType,true), value#24, Some(America/Toronto)) AS jsonData#26]\n         :     +- Project [cast(value#9 as string) AS value#24]\n         :        +- StreamingDataSourceV2Relation [key#8, value#9, topic#10, partition#11, offset#12L, timestamp#13, timestampType#14, headers#15], org.apache.spark.sql.kafka010.KafkaSourceProvider$KafkaScan@135ce89d, KafkaV2[Subscribe[lol]]\n         +- Project [jsondata#61.stuff AS stuff#64, jsondata#61.id AS id#65]\n            +- Project [value#59, from_json(StructField(stuff,StringType,true), StructField(id,IntegerType,true), value#59, Some(America/Toronto)) AS jsonData#61]\n               +- Project [cast(value#44 as string) AS value#59]\n                  +- StreamingDataSourceV2Relation [key#43, value#44, topic#45, partition#46, offset#47L, timestamp#48, timestampType#49, headers#50], org.apache.spark.sql.kafka010.KafkaSourceProvider$KafkaScan@1a982635, KafkaV2[Subscribe[lmao]]\n",
     "output_type": "error",
     "traceback": [
      "\u001b[0;31m---------------------------------------------------------------------------\u001b[0m",
      "\u001b[0;31mStreamingQueryException\u001b[0m                   Traceback (most recent call last)",
      "\u001b[0;32m<ipython-input-91-41541a42004e>\u001b[0m in \u001b[0;36m<module>\u001b[0;34m\u001b[0m\n\u001b[0;32m----> 1\u001b[0;31m \u001b[0mjoined_df\u001b[0m\u001b[0;34m.\u001b[0m\u001b[0mwriteStream\u001b[0m\u001b[0;34m.\u001b[0m\u001b[0mformat\u001b[0m\u001b[0;34m(\u001b[0m\u001b[0;34m\"console\"\u001b[0m\u001b[0;34m)\u001b[0m\u001b[0;34m.\u001b[0m\u001b[0moutputMode\u001b[0m\u001b[0;34m(\u001b[0m\u001b[0;34m\"append\"\u001b[0m\u001b[0;34m)\u001b[0m\u001b[0;34m.\u001b[0m\u001b[0mstart\u001b[0m\u001b[0;34m(\u001b[0m\u001b[0;34m)\u001b[0m\u001b[0;34m.\u001b[0m\u001b[0mawaitTermination\u001b[0m\u001b[0;34m(\u001b[0m\u001b[0;34m)\u001b[0m\u001b[0;34m\u001b[0m\u001b[0;34m\u001b[0m\u001b[0m\n\u001b[0m",
      "\u001b[0;32m~/opt/anaconda3/envs/fauked/lib/python3.7/site-packages/pyspark/sql/streaming.py\u001b[0m in \u001b[0;36mawaitTermination\u001b[0;34m(self, timeout)\u001b[0m\n\u001b[1;32m    101\u001b[0m             \u001b[0;32mreturn\u001b[0m \u001b[0mself\u001b[0m\u001b[0;34m.\u001b[0m\u001b[0m_jsq\u001b[0m\u001b[0;34m.\u001b[0m\u001b[0mawaitTermination\u001b[0m\u001b[0;34m(\u001b[0m\u001b[0mint\u001b[0m\u001b[0;34m(\u001b[0m\u001b[0mtimeout\u001b[0m \u001b[0;34m*\u001b[0m \u001b[0;36m1000\u001b[0m\u001b[0;34m)\u001b[0m\u001b[0;34m)\u001b[0m\u001b[0;34m\u001b[0m\u001b[0;34m\u001b[0m\u001b[0m\n\u001b[1;32m    102\u001b[0m         \u001b[0;32melse\u001b[0m\u001b[0;34m:\u001b[0m\u001b[0;34m\u001b[0m\u001b[0;34m\u001b[0m\u001b[0m\n\u001b[0;32m--> 103\u001b[0;31m             \u001b[0;32mreturn\u001b[0m \u001b[0mself\u001b[0m\u001b[0;34m.\u001b[0m\u001b[0m_jsq\u001b[0m\u001b[0;34m.\u001b[0m\u001b[0mawaitTermination\u001b[0m\u001b[0;34m(\u001b[0m\u001b[0;34m)\u001b[0m\u001b[0;34m\u001b[0m\u001b[0;34m\u001b[0m\u001b[0m\n\u001b[0m\u001b[1;32m    104\u001b[0m \u001b[0;34m\u001b[0m\u001b[0m\n\u001b[1;32m    105\u001b[0m     \u001b[0;34m@\u001b[0m\u001b[0mproperty\u001b[0m\u001b[0;34m\u001b[0m\u001b[0;34m\u001b[0m\u001b[0m\n",
      "\u001b[0;32m~/opt/anaconda3/envs/fauked/lib/python3.7/site-packages/py4j/java_gateway.py\u001b[0m in \u001b[0;36m__call__\u001b[0;34m(self, *args)\u001b[0m\n\u001b[1;32m   1303\u001b[0m         \u001b[0manswer\u001b[0m \u001b[0;34m=\u001b[0m \u001b[0mself\u001b[0m\u001b[0;34m.\u001b[0m\u001b[0mgateway_client\u001b[0m\u001b[0;34m.\u001b[0m\u001b[0msend_command\u001b[0m\u001b[0;34m(\u001b[0m\u001b[0mcommand\u001b[0m\u001b[0;34m)\u001b[0m\u001b[0;34m\u001b[0m\u001b[0;34m\u001b[0m\u001b[0m\n\u001b[1;32m   1304\u001b[0m         return_value = get_return_value(\n\u001b[0;32m-> 1305\u001b[0;31m             answer, self.gateway_client, self.target_id, self.name)\n\u001b[0m\u001b[1;32m   1306\u001b[0m \u001b[0;34m\u001b[0m\u001b[0m\n\u001b[1;32m   1307\u001b[0m         \u001b[0;32mfor\u001b[0m \u001b[0mtemp_arg\u001b[0m \u001b[0;32min\u001b[0m \u001b[0mtemp_args\u001b[0m\u001b[0;34m:\u001b[0m\u001b[0;34m\u001b[0m\u001b[0;34m\u001b[0m\u001b[0m\n",
      "\u001b[0;32m~/opt/anaconda3/envs/fauked/lib/python3.7/site-packages/pyspark/sql/utils.py\u001b[0m in \u001b[0;36mdeco\u001b[0;34m(*a, **kw)\u001b[0m\n\u001b[1;32m    132\u001b[0m                 \u001b[0;31m# Hide where the exception came from that shows a non-Pythonic\u001b[0m\u001b[0;34m\u001b[0m\u001b[0;34m\u001b[0m\u001b[0;34m\u001b[0m\u001b[0m\n\u001b[1;32m    133\u001b[0m                 \u001b[0;31m# JVM exception message.\u001b[0m\u001b[0;34m\u001b[0m\u001b[0;34m\u001b[0m\u001b[0;34m\u001b[0m\u001b[0m\n\u001b[0;32m--> 134\u001b[0;31m                 \u001b[0mraise_from\u001b[0m\u001b[0;34m(\u001b[0m\u001b[0mconverted\u001b[0m\u001b[0;34m)\u001b[0m\u001b[0;34m\u001b[0m\u001b[0;34m\u001b[0m\u001b[0m\n\u001b[0m\u001b[1;32m    135\u001b[0m             \u001b[0;32melse\u001b[0m\u001b[0;34m:\u001b[0m\u001b[0;34m\u001b[0m\u001b[0;34m\u001b[0m\u001b[0m\n\u001b[1;32m    136\u001b[0m                 \u001b[0;32mraise\u001b[0m\u001b[0;34m\u001b[0m\u001b[0;34m\u001b[0m\u001b[0m\n",
      "\u001b[0;32m~/opt/anaconda3/envs/fauked/lib/python3.7/site-packages/pyspark/sql/utils.py\u001b[0m in \u001b[0;36mraise_from\u001b[0;34m(e)\u001b[0m\n",
      "\u001b[0;31mStreamingQueryException\u001b[0m: Writing job aborted.\n=== Streaming Query ===\nIdentifier: [id = f69a5ded-c5e6-4b9d-a53e-bfec3c75e33f, runId = 830a7e66-0c83-4eea-af01-30ebd989a986]\nCurrent Committed Offsets: {}\nCurrent Available Offsets: {KafkaV2[Subscribe[lmao]]: {\"lmao\":{\"0\":5}},KafkaV2[Subscribe[lol]]: {\"lol\":{\"0\":10}}}\n\nCurrent State: ACTIVE\nThread State: RUNNABLE\n\nLogical Plan:\nWriteToMicroBatchDataSource ConsoleWriter[numRows=20, truncate=true]\n+- Project [id#31, columns#29, data#30, stuff#64, predict(data#30) AS predictions#683]\n   +- Project [id#31, columns#29, data#30, stuff#64]\n      +- Join Inner, (id#31 = id#65)\n         :- Project [jsondata#26.columns AS columns#29, jsondata#26.data AS data#30, jsondata#26.id AS id#31]\n         :  +- Project [value#24, from_json(StructField(columns,ArrayType(StringType,true),true), StructField(data,ArrayType(ArrayType(FloatType,true),true),true), StructField(id,IntegerType,true), value#24, Some(America/Toronto)) AS jsonData#26]\n         :     +- Project [cast(value#9 as string) AS value#24]\n         :        +- StreamingDataSourceV2Relation [key#8, value#9, topic#10, partition#11, offset#12L, timestamp#13, timestampType#14, headers#15], org.apache.spark.sql.kafka010.KafkaSourceProvider$KafkaScan@135ce89d, KafkaV2[Subscribe[lol]]\n         +- Project [jsondata#61.stuff AS stuff#64, jsondata#61.id AS id#65]\n            +- Project [value#59, from_json(StructField(stuff,StringType,true), StructField(id,IntegerType,true), value#59, Some(America/Toronto)) AS jsonData#61]\n               +- Project [cast(value#44 as string) AS value#59]\n                  +- StreamingDataSourceV2Relation [key#43, value#44, topic#45, partition#46, offset#47L, timestamp#48, timestampType#49, headers#50], org.apache.spark.sql.kafka010.KafkaSourceProvider$KafkaScan@1a982635, KafkaV2[Subscribe[lmao]]\n"
     ]
    }
   ],
   "source": [
    "joined_df.writeStream.format(\"console\").outputMode(\"append\").start().awaitTermination()"
   ]
  },
  {
   "cell_type": "code",
   "execution_count": 92,
   "id": "social-quantity",
   "metadata": {},
   "outputs": [],
   "source": [
    "def pred(data):\n",
    "    result = model.predict(data)\n",
    "    return result.tolist()"
   ]
  },
  {
   "cell_type": "code",
   "execution_count": 93,
   "id": "earlier-foundation",
   "metadata": {},
   "outputs": [],
   "source": [
    "from pyspark.sql import functions as F\n",
    "pred_udf = F.udf(pred, ArrayType(IntegerType()))"
   ]
  },
  {
   "cell_type": "code",
   "execution_count": null,
   "id": "advance-english",
   "metadata": {},
   "outputs": [],
   "source": [
    "json_df.withColumn(\"predictions\", pred_udf(F.col(\"data\"))).writeStream.format(\"console\").outputMode(\"append\").start().awaitTermination()\n"
   ]
  },
  {
   "cell_type": "code",
   "execution_count": null,
   "id": "instrumental-nurse",
   "metadata": {},
   "outputs": [],
   "source": []
  }
 ],
 "metadata": {
  "kernelspec": {
   "display_name": "Python 3",
   "language": "python",
   "name": "python3"
  },
  "language_info": {
   "codemirror_mode": {
    "name": "ipython",
    "version": 3
   },
   "file_extension": ".py",
   "mimetype": "text/x-python",
   "name": "python",
   "nbconvert_exporter": "python",
   "pygments_lexer": "ipython3",
   "version": "3.8.5"
  }
 },
 "nbformat": 4,
 "nbformat_minor": 5
}
